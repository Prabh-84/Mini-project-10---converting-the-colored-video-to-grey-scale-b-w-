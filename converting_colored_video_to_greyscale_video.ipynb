{
  "nbformat": 4,
  "nbformat_minor": 0,
  "metadata": {
    "colab": {
      "provenance": [],
      "authorship_tag": "ABX9TyPHuKdhK3pG0mpNOcyWRhGI",
      "include_colab_link": true
    },
    "kernelspec": {
      "name": "python3",
      "display_name": "Python 3"
    },
    "language_info": {
      "name": "python"
    }
  },
  "cells": [
    {
      "cell_type": "markdown",
      "metadata": {
        "id": "view-in-github",
        "colab_type": "text"
      },
      "source": [
        "<a href=\"https://colab.research.google.com/github/Prabh-84/Mini-project-10---converting-the-colored-video-to-grey-scale-b-w-/blob/main/converting_colored_video_to_greyscale_video.ipynb\" target=\"_parent\"><img src=\"https://colab.research.google.com/assets/colab-badge.svg\" alt=\"Open In Colab\"/></a>"
      ]
    },
    {
      "cell_type": "code",
      "execution_count": 2,
      "metadata": {
        "colab": {
          "base_uri": "https://localhost:8080/"
        },
        "id": "CthPHFMC57Vq",
        "outputId": "be3bf7d4-1b89-4733-d3fc-cf22cedf13fa"
      },
      "outputs": [
        {
          "output_type": "stream",
          "name": "stdout",
          "text": [
            "Moviepy - Building video /content/grayscale_video_with_audio.mp4.\n",
            "MoviePy - Writing audio in grayscale_video_with_audioTEMP_MPY_wvf_snd.mp3\n"
          ]
        },
        {
          "output_type": "stream",
          "name": "stderr",
          "text": []
        },
        {
          "output_type": "stream",
          "name": "stdout",
          "text": [
            "MoviePy - Done.\n",
            "Moviepy - Writing video /content/grayscale_video_with_audio.mp4\n",
            "\n"
          ]
        },
        {
          "output_type": "stream",
          "name": "stderr",
          "text": [
            "t: 100%|█████████▉| 901/903 [01:13<00:00, 15.06it/s, now=None]WARNING:py.warnings:/usr/local/lib/python3.10/dist-packages/moviepy/video/io/ffmpeg_reader.py:123: UserWarning: Warning: in file /content/output_video.avi, 2764800 bytes wanted but 0 bytes read,at frame 902/903, at time 30.10/30.10 sec. Using the last valid frame instead.\n",
            "  warnings.warn(\"Warning: in file %s, \"%(self.filename)+\n",
            "\n"
          ]
        },
        {
          "output_type": "stream",
          "name": "stdout",
          "text": [
            "Moviepy - Done !\n",
            "Moviepy - video ready /content/grayscale_video_with_audio.mp4\n",
            "Video converted to grayscale and audio added successfully\n"
          ]
        }
      ],
      "source": [
        "import cv2\n",
        "from moviepy.editor import VideoFileClip\n",
        "\n",
        "# Video paths\n",
        "input_path = '/content/Wildlife Windows 7 Sample Video.mp4'\n",
        "output_video_path = '/content/output_video.avi'\n",
        "final_output_path = '/content/grayscale_video_with_audio.mp4'\n",
        "\n",
        "# Initialize video capture\n",
        "video = cv2.VideoCapture(input_path)\n",
        "if not video.isOpened():\n",
        "    print(\"Error opening video file\")\n",
        "    exit()\n",
        "\n",
        "# Video properties\n",
        "fps = video.get(cv2.CAP_PROP_FPS)\n",
        "width = int(video.get(cv2.CAP_PROP_FRAME_WIDTH))\n",
        "height = int(video.get(cv2.CAP_PROP_FRAME_HEIGHT))\n",
        "\n",
        "# Initialize video writer\n",
        "output_video = cv2.VideoWriter(output_video_path, cv2.VideoWriter_fourcc(*'XVID'), fps, (width, height), isColor=False)\n",
        "if not output_video.isOpened():\n",
        "    print(\"Failed to write video\")\n",
        "    video.release()\n",
        "    exit()\n",
        "\n",
        "# Convert video to grayscale\n",
        "while True:\n",
        "    ret, frame = video.read()\n",
        "    if not ret:\n",
        "        break\n",
        "    gray_frame = cv2.cvtColor(frame, cv2.COLOR_BGR2GRAY)\n",
        "    output_video.write(gray_frame)\n",
        "\n",
        "# Release resources\n",
        "video.release()\n",
        "output_video.release()\n",
        "\n",
        "# Add audio from the original video to the grayscale video\n",
        "original_video = VideoFileClip(input_path)\n",
        "grayscale_video = VideoFileClip(output_video_path)\n",
        "grayscale_video_with_audio = grayscale_video.set_audio(original_video.audio)\n",
        "grayscale_video_with_audio.write_videofile(final_output_path, codec='libx264')\n",
        "\n",
        "print(\"Video converted to grayscale and audio added successfully\")\n"
      ]
    }
  ]
}